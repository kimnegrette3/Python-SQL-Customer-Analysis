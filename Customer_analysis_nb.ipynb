{
 "cells": [
  {
   "cell_type": "markdown",
   "metadata": {},
   "source": [
    "# Customer Analysis BiPi"
   ]
  },
  {
   "cell_type": "markdown",
   "metadata": {},
   "source": [
    "## Instrucciones/preguntas:\n",
    "\n",
    "Dado el dataset que se adjunta, contestar las siguientes preguntas:\n",
    "\n",
    "- ¿Qué método de pandas utilizarías para cargar la información en un dataframe?\n",
    "\n",
    "- ¿Qué alternativa a pandas podrías utilizar?\n",
    "\n",
    "- ¿Qué procedimientos harías para hacer una limpieza de los datos?\n",
    "\n",
    "Escribe un script en Python apoyado en pandas y en cualquier librería de graficación que conozcas que en tiempo de ejecución realice lo siguiente:\n",
    "\n",
    "Nota: El script tiene que funcionar sin tener el dataset en local. Es decir, debes subir el dataset a algún sitio (git, drive...) y ponerlo en modo público.\n",
    "\n",
    "\n",
    "1. Calcular el número y porcentaje sobre el total absoluto de Mujeres monoparentales que han gastado más de 15.000 dólares.\n",
    "\n",
    "2. Calcular cuántos abogados (M/F) hay en el dataset que tengan mayor experiencia laboral que la media de ingenieros hombres.\n",
    "\n",
    "3. Dibuja la distribución de abogados en función de su gasto anual (utiliza franjas de gasto) y de su sexo.\n",
    "\n",
    "4. Añade algún análisis que creas que puede ser interesante explicando por pantalla el resultado del mismo"
   ]
  },
  {
   "cell_type": "markdown",
   "metadata": {},
   "source": []
  },
  {
   "cell_type": "code",
   "execution_count": null,
   "metadata": {},
   "outputs": [],
   "source": []
  }
 ],
 "metadata": {
  "language_info": {
   "name": "python"
  }
 },
 "nbformat": 4,
 "nbformat_minor": 2
}
